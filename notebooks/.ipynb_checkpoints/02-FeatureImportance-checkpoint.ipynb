{
 "cells": [
  {
   "cell_type": "markdown",
   "metadata": {},
   "source": [
    "# Feature Engineering\n",
    "\n",
    "I'm going to outline a strategy similar to the fast.ai machine learning course. The general plan is to \n",
    "1. Build a simple, decent random forset model\n",
    "2. Use this to understand which features are most imporatnt, focus on improving and expanding upon these features\n",
    "3. Step back with improved features and try a few other ensamble approaches to find the best\n",
    "4. Tune hyperparamaters\n",
    "5. Make predictions\n",
    "\n",
    "\n",
    "## Basic Model\n",
    "\n",
    "First, I'll make a basic RF model, then use this to test the effect of adding some additional datasets on top of our data. Loading in the data frame we left off with from last time."
   ]
  },
  {
   "cell_type": "code",
   "execution_count": 43,
   "metadata": {},
   "outputs": [
    {
     "name": "stdout",
     "output_type": "stream",
     "text": [
      "The autoreload extension is already loaded. To reload it, use:\n",
      "  %reload_ext autoreload\n"
     ]
    }
   ],
   "source": [
    "%load_ext autoreload\n",
    "%autoreload 2\n",
    "%matplotlib inline\n",
    "\n",
    "import pandas as pd\n",
    "import numpy as np\n",
    "import re\n",
    "import matplotlib.pyplot as plt\n",
    "import matplotlib.style as style\n",
    "import seaborn as sns\n",
    "\n",
    "from sklearn.ensemble import RandomForestClassifier\n",
    "from sklearn.metrics import roc_auc_score, roc_curve, confusion_matrix\n",
    "\n",
    "\n",
    "style.use('fivethirtyeight')"
   ]
  },
  {
   "cell_type": "code",
   "execution_count": 44,
   "metadata": {},
   "outputs": [],
   "source": [
    "interim_filepath = '../data/interim/'\n",
    "data = pd.read_csv(f'{interim_filepath}sar_weather_df.csv')"
   ]
  },
  {
   "cell_type": "markdown",
   "metadata": {},
   "source": [
    "First, though, I need a validation dataset. Since the goal is to predict into the future, we need to take this into account, like was discussed for the bulldozers dataset on Kaggle. I'll use the chronological end of my dataset for validation. If we take everything starting in 2017 and after, that will be ~15% of the total data.\n",
    "\n",
    "Out test set will be real life - predicting the missions for this upcoming summer."
   ]
  },
  {
   "cell_type": "code",
   "execution_count": 45,
   "metadata": {},
   "outputs": [
    {
     "name": "stdout",
     "output_type": "stream",
     "text": [
      "(5461, 35) (820, 35)\n"
     ]
    }
   ],
   "source": [
    "validate = data[data.Year > 2016]\n",
    "train = data[data.Year <= 2016]\n",
    "\n",
    "print(train.shape, validate.shape)"
   ]
  },
  {
   "cell_type": "code",
   "execution_count": 46,
   "metadata": {},
   "outputs": [
    {
     "name": "stdout",
     "output_type": "stream",
     "text": [
      "Index(['mission', 'Year', 'Month', 'Week', 'Day', 'Dayofweek', 'Dayofyear',\n",
      "       'Is_month_end', 'Is_month_start', 'Is_quarter_end', 'Is_quarter_start',\n",
      "       'Is_year_end', 'Is_year_start', 'Elapsed', 'DATE', 'AWND_x', 'PRCP_x',\n",
      "       'TAVG_x', 'TMAX_x', 'TMIN_x', 'TSUN', 'WT01', 'WT02', 'WT03', 'WT05',\n",
      "       'WT08', 'WT10', 'AWND_y', 'PRCP_y', 'SNWD', 'TAVG_y', 'TMAX_y',\n",
      "       'TMIN_y', 'TOBS', 'WESD'],\n",
      "      dtype='object')\n"
     ]
    },
    {
     "name": "stderr",
     "output_type": "stream",
     "text": [
      "/home/afederation/anaconda3/envs/fastai/lib/python3.6/site-packages/pandas/core/frame.py:3940: SettingWithCopyWarning: \n",
      "A value is trying to be set on a copy of a slice from a DataFrame\n",
      "\n",
      "See the caveats in the documentation: http://pandas.pydata.org/pandas-docs/stable/indexing.html#indexing-view-versus-copy\n",
      "  errors=errors)\n"
     ]
    }
   ],
   "source": [
    "print(train.columns)\n",
    "\n",
    "# remove the date for RF training\n",
    "train.drop('DATE', axis=1, inplace=True)\n",
    "validate.drop('DATE', axis=1, inplace=True)"
   ]
  },
  {
   "cell_type": "code",
   "execution_count": 47,
   "metadata": {},
   "outputs": [],
   "source": [
    "y_train = train['mission']\n",
    "X_train = train.drop('mission', axis=1)\n",
    "\n",
    "y_validate = validate['mission']\n",
    "X_validate = validate.drop('mission', axis=1)"
   ]
  },
  {
   "cell_type": "code",
   "execution_count": 48,
   "metadata": {},
   "outputs": [
    {
     "name": "stdout",
     "output_type": "stream",
     "text": [
      "0.8635780992492218\n",
      "0.6695121951219513\n",
      "0.7207471159128365\n"
     ]
    }
   ],
   "source": [
    "m = RandomForestClassifier(n_estimators=100, min_samples_leaf=4, n_jobs=-1, oob_score=True)\n",
    "m.fit(X_train, y_train)\n",
    "print(m.score(X_train, y_train))\n",
    "print(m.score(X_validate, y_validate))\n",
    "print(m.oob_score_)"
   ]
  },
  {
   "cell_type": "markdown",
   "metadata": {},
   "source": [
    "**Unbalanced Classes**\n",
    "\n",
    "The built-in scoring functions probably aren't ideal, since there's only a mission 29% of the time.\n",
    "\n",
    "ROC curves are a decent approach for scoring our models. These weren't discussed in the fast.ai course, they focused mostly on regression problems. I found [this explination](https://medium.com/greyatom/lets-learn-about-auc-roc-curve-4a94b4d88152) to be helpful. First, I'll calculate precision and recall and compare to a naive model that always predicts the major class (0)."
   ]
  },
  {
   "cell_type": "code",
   "execution_count": 49,
   "metadata": {},
   "outputs": [],
   "source": [
    "y_score = [x[1] for x in m.predict_proba(X_validate)]"
   ]
  },
  {
   "cell_type": "code",
   "execution_count": 50,
   "metadata": {},
   "outputs": [
    {
     "name": "stdout",
     "output_type": "stream",
     "text": [
      "0.6115529092071611\n",
      "0.5\n"
     ]
    }
   ],
   "source": [
    "print(roc_auc_score(y_validate,y_score)) # my model\n",
    "print(roc_auc_score(y_validate, 0.29*np.ones(len(y_validate)))) # naive model\n"
   ]
  },
  {
   "cell_type": "code",
   "execution_count": 51,
   "metadata": {},
   "outputs": [
    {
     "data": {
      "image/png": "[encoded data removed]",
      "text/plain": [
       "<Figure size 432x288 with 1 Axes>"
      ]
     },
     "metadata": {},
     "output_type": "display_data"
    }
   ],
   "source": [
    "fpr, tpr, thresholds = roc_curve(y_validate, y_score)\n",
    "\n",
    "plt.plot(fpr, tpr)\n",
    "plt.plot([0, 1], [0, 1], linestyle='--', lw=2, color='r',\n",
    "         label='Chance', alpha=.8)\n",
    "plt.xlim([-0.05, 1.05])\n",
    "plt.ylim([-0.05, 1.05])\n",
    "plt.xlabel('False Positive Rate')\n",
    "plt.ylabel('True Positive Rate')\n",
    "plt.title('ROC Curve')\n",
    "plt.legend(loc=\"lower right\")\n",
    "plt.show()"
   ]
  },
  {
   "cell_type": "markdown",
   "metadata": {},
   "source": [
    "We aren't doing a super great job, but the model is pulling out some useful information beyone the naive model. What does the confusion matrix look like? Need to give the functions actual preductions, not probabilities.\n",
    "\n",
    "Now, I'll write some functions for repeating these steps."
   ]
  },
  {
   "cell_type": "code",
   "execution_count": 52,
   "metadata": {},
   "outputs": [
    {
     "data": {
      "text/html": [
       "<div>\n",
       "<style scoped>\n",
       "    .dataframe tbody tr th:only-of-type {\n",
       "        vertical-align: middle;\n",
       "    }\n",
       "\n",
       "    .dataframe tbody tr th {\n",
       "        vertical-align: top;\n",
       "    }\n",
       "\n",
       "    .dataframe thead th {\n",
       "        text-align: right;\n",
       "    }\n",
       "</style>\n",
       "<table border=\"1\" class=\"dataframe\">\n",
       "  <thead>\n",
       "    <tr style=\"text-align: right;\">\n",
       "      <th>Predicted</th>\n",
       "      <th>0</th>\n",
       "      <th>1</th>\n",
       "    </tr>\n",
       "    <tr>\n",
       "      <th>True</th>\n",
       "      <th></th>\n",
       "      <th></th>\n",
       "    </tr>\n",
       "  </thead>\n",
       "  <tbody>\n",
       "    <tr>\n",
       "      <th>0</th>\n",
       "      <td>68.175766</td>\n",
       "      <td>46.376812</td>\n",
       "    </tr>\n",
       "    <tr>\n",
       "      <th>1</th>\n",
       "      <td>31.824234</td>\n",
       "      <td>53.623188</td>\n",
       "    </tr>\n",
       "  </tbody>\n",
       "</table>\n",
       "</div>"
      ],
      "text/plain": [
       "Predicted          0          1\n",
       "True                           \n",
       "0          68.175766  46.376812\n",
       "1          31.824234  53.623188"
      ]
     },
     "execution_count": 52,
     "metadata": {},
     "output_type": "execute_result"
    }
   ],
   "source": [
    "y_preds = m.predict(X_validate)\n",
    "pd.crosstab(y_validate, y_preds, rownames=['True'], colnames=['Predicted']).apply(lambda r: 100.0 * r/r.sum())\n",
    "\n"
   ]
  },
  {
   "cell_type": "markdown",
   "metadata": {},
   "source": [
    "We're a little bit better at predicting negative days compared to positive ones."
   ]
  },
  {
   "cell_type": "code",
   "execution_count": 53,
   "metadata": {},
   "outputs": [],
   "source": [
    "## Automate the splitting, training and validation\n",
    "\n",
    "def split_train_val(data):\n",
    "    validate = data[data.Year > 2016]\n",
    "    train = data[data.Year <= 2016]\n",
    "\n",
    "    train.drop('DATE', axis=1, inplace=True)\n",
    "    validate.drop('DATE', axis=1, inplace=True)\n",
    "    \n",
    "    y_train = train['mission']\n",
    "    X_train = train.drop('mission', axis=1)\n",
    "\n",
    "    y_validate = validate['mission']\n",
    "    X_validate = validate.drop('mission', axis=1)\n",
    "    \n",
    "    return X_train, y_train, X_validate, y_validate\n",
    "\n",
    "\n",
    "def build_RF(X_train, y_train):\n",
    "    m = RandomForestClassifier(n_estimators=100, min_samples_leaf=4, n_jobs=-1, oob_score=True)\n",
    "    m.fit(X_train, y_train)\n",
    "    print('Training Score: ', m.score(X_train, y_train))\n",
    "    print('OOB Score: ', m.oob_score_)\n",
    "    return m\n",
    "    \n",
    "def test_RF(m, X_validate, y_validate):\n",
    "    print('Validate Score: ',m.score(X_validate, y_validate))\n",
    "    y_score = [x[1] for x in m.predict_proba(X_validate)]\n",
    "    print('ROC AUC: ', roc_auc_score(y_validate,y_score)) # my model\n",
    "    fpr, tpr, thresholds = roc_curve(y_validate, y_score)\n",
    "\n",
    "    plt.plot(fpr, tpr)\n",
    "    plt.plot([0, 1], [0, 1], linestyle='--', lw=2, color='r',\n",
    "         label='Chance', alpha=.8)\n",
    "    plt.xlim([-0.05, 1.05])\n",
    "    plt.ylim([-0.05, 1.05])\n",
    "    plt.xlabel('False Positive Rate')\n",
    "    plt.ylabel('True Positive Rate')\n",
    "    plt.title('ROC Curve')\n",
    "    plt.legend(loc=\"lower right\")\n",
    "    plt.show()\n",
    "    return True"
   ]
  },
  {
   "cell_type": "code",
   "execution_count": 54,
   "metadata": {},
   "outputs": [
    {
     "name": "stdout",
     "output_type": "stream",
     "text": [
      "                0           1\n",
      "count  820.000000  820.000000\n",
      "mean     0.666807    0.333193\n",
      "std      0.109087    0.109087\n",
      "min      0.309017    0.115993\n",
      "25%      0.602843    0.253165\n",
      "50%      0.679731    0.320269\n",
      "75%      0.746835    0.397157\n",
      "max      0.884007    0.690983\n"
     ]
    },
    {
     "data": {
      "image/png": "[encoded data removed]",
      "text/plain": [
       "<Figure size 432x288 with 1 Axes>"
      ]
     },
     "metadata": {},
     "output_type": "display_data"
    }
   ],
   "source": [
    "predictions = pd.DataFrame(m.predict_proba(X_validate))\n",
    "sns.distplot(predictions[1], bins=10) #plot the prediction liklihood of a mission\n",
    "print(predictions.describe())"
   ]
  },
  {
   "cell_type": "markdown",
   "metadata": {},
   "source": [
    "Interesting. It's never more than 72% sure that a mission will happen. The negative predictive power is a bit better, getting as low as 11% liklihood. \n",
    "\n",
    "## Feature Importances\n",
    "\n",
    "From what we have so far, what is driving our predictions?"
   ]
  },
  {
   "cell_type": "code",
   "execution_count": 63,
   "metadata": {},
   "outputs": [],
   "source": [
    "def print_feat_imp(df, m):\n",
    "    fi = pd.DataFrame({'cols':df.columns, 'imp':m.feature_importances_}\n",
    "                       ).sort_values('imp', ascending=False)\n",
    "    print(fi)"
   ]
  },
  {
   "cell_type": "markdown",
   "metadata": {},
   "source": [
    "How can we improve our predictions? Add more features? Holidays? Google Data"
   ]
  },
  {
   "cell_type": "markdown",
   "metadata": {},
   "source": [
    "## Adding additional features\n",
    "\n",
    "Let's consider twp ypes of data that are avaliable to add.\n",
    "- Holiday data\n",
    "- Google Trends"
   ]
  },
  {
   "cell_type": "markdown",
   "metadata": {},
   "source": [
    "### Holiday Data\n",
    "\n",
    "Let's start with the US federal holidays and add them to the dataset as a bool. We also expect that the days surrounding a holiday may see an increase or decrease in missions as well. \n",
    "\n",
    "We'll use a list of holidays from pandas"
   ]
  },
  {
   "cell_type": "code",
   "execution_count": 58,
   "metadata": {},
   "outputs": [],
   "source": [
    "import pandas.tseries.holiday as hol\n",
    "\n",
    "us_cal = hol.USFederalHolidayCalendar()\n",
    "dr = pd.date_range(start='2002-01-01', end='2019-05-01')\n",
    "us_holidays = us_cal.holidays(start=dr.min(), end=dr.max())"
   ]
  },
  {
   "cell_type": "code",
   "execution_count": 73,
   "metadata": {},
   "outputs": [],
   "source": [
    "# Add column holiday bool to data\n",
    "\n",
    "data['holiday'] = 0\n",
    "data['DATE'] =  pd.to_datetime(data['DATE'], infer_datetime_format=True,\n",
    "                              format='datetime64[ns]')\n",
    "data['holiday'] = data.DATE.isin(us_holidays)\n",
    "\n",
    "# Insert the number of days before and after closest holiday\n",
    "\n",
    "holiday = data.holiday\n",
    "since = []\n",
    "d = 0\n",
    "for i in range(len(holiday)):\n",
    "    d += 1\n",
    "    if holiday[i]:\n",
    "        d = 0   # if it's a holiday, reset\n",
    "    since.append(d)\n",
    "#data['holiday_days_since'] = since\n",
    "\n",
    "before = []\n",
    "d = 0\n",
    "for i in range(len(holiday)):\n",
    "    d += 1\n",
    "    if holiday[len(holiday) - (i+1)]:\n",
    "        d = 0   # if it's a holiday, reset\n",
    "    before.append(d)\n",
    "#data['holiday_days_before'] = before\n",
    "\n",
    "data['holiday_closest'] = np.minimum(since, before)"
   ]
  },
  {
   "cell_type": "code",
   "execution_count": 77,
   "metadata": {},
   "outputs": [
    {
     "name": "stderr",
     "output_type": "stream",
     "text": [
      "/home/afederation/anaconda3/envs/fastai/lib/python3.6/site-packages/pandas/core/frame.py:3940: SettingWithCopyWarning: \n",
      "A value is trying to be set on a copy of a slice from a DataFrame\n",
      "\n",
      "See the caveats in the documentation: http://pandas.pydata.org/pandas-docs/stable/indexing.html#indexing-view-versus-copy\n",
      "  errors=errors)\n"
     ]
    },
    {
     "name": "stdout",
     "output_type": "stream",
     "text": [
      "Training Score:  0.8626625160227065\n",
      "OOB Score:  0.7214795824940488\n",
      "Validate Score:  0.6670731707317074\n",
      "ROC AUC:  0.6276041666666666\n"
     ]
    },
    {
     "data": {
      "image/png": "[encoded data removed]",
      "text/plain": [
       "<Figure size 432x288 with 1 Axes>"
      ]
     },
     "metadata": {},
     "output_type": "display_data"
    },
    {
     "data": {
      "text/plain": [
       "True"
      ]
     },
     "execution_count": 77,
     "metadata": {},
     "output_type": "execute_result"
    }
   ],
   "source": [
    "# Test it's effect on the model\n",
    "\n",
    "X_train, y_train, X_validate, y_validate = split_train_val(data)\n",
    "m = build_RF(X_train, y_train)\n",
    "test_RF(m, X_validate, y_validate)"
   ]
  },
  {
   "cell_type": "code",
   "execution_count": 76,
   "metadata": {},
   "outputs": [
    {
     "name": "stdout",
     "output_type": "stream",
     "text": [
      "                cols       imp\n",
      "4          Dayofweek  0.086756\n",
      "12           Elapsed  0.077557\n",
      "13            AWND_x  0.065228\n",
      "5          Dayofyear  0.063881\n",
      "16            TMAX_x  0.060490\n",
      "3                Day  0.059968\n",
      "29            TMAX_y  0.059083\n",
      "17            TMIN_x  0.057850\n",
      "33   holiday_closest  0.054482\n",
      "31              TOBS  0.052267\n",
      "28            TAVG_y  0.051144\n",
      "30            TMIN_y  0.048138\n",
      "2               Week  0.041702\n",
      "0               Year  0.037901\n",
      "14            PRCP_x  0.034835\n",
      "32              WESD  0.028135\n",
      "26            PRCP_y  0.027025\n",
      "27              SNWD  0.020318\n",
      "1              Month  0.019505\n",
      "15            TAVG_x  0.018437\n",
      "25            AWND_y  0.017296\n",
      "19              WT01  0.009028\n",
      "23              WT08  0.003445\n",
      "7     Is_month_start  0.001394\n",
      "34           holiday  0.001310\n",
      "6       Is_month_end  0.001020\n",
      "20              WT02  0.000722\n",
      "9   Is_quarter_start  0.000491\n",
      "8     Is_quarter_end  0.000337\n",
      "11     Is_year_start  0.000137\n",
      "21              WT03  0.000114\n",
      "10       Is_year_end  0.000004\n",
      "22              WT05  0.000000\n",
      "18              TSUN  0.000000\n",
      "24              WT10  0.000000\n"
     ]
    }
   ],
   "source": [
    "print_feat_imp(X_train, m)"
   ]
  },
  {
   "cell_type": "markdown",
   "metadata": {},
   "source": [
    "After testing different approaches like 'days until next holiday', 'days since last holiday' and 'days from closest holiday', it looks like the 'closest holiday' column without the 'before' and 'since' give the strongest improvement. The is_holiday bool isn't very important on its own."
   ]
  },
  {
   "cell_type": "markdown",
   "metadata": {},
   "source": [
    "### Google Trends Data\n",
    "\n",
    "My hypothesis is that google search trends could give us additional information by acting as a proxy for the number of people actually out on the hiking trails. We can actually get pretty specific data, and the information we're using here is focused on the general 'hiking' topic, however this topic is defined by Google. We can also zoom in on King County, which is where the vast majority of our calls occur.\n",
    "\n",
    "The data itself was a little bit annoying to get. Google scales the frequency of data output based on how much data you look at. So for example, if I download the entire dataset"
   ]
  },
  {
   "cell_type": "code",
   "execution_count": 78,
   "metadata": {},
   "outputs": [],
   "source": [
    "raw_filepath = '../data/raw/'\n",
    "\n",
    "trends = pd.read_csv(f'{raw_filepath}/googletrends_hiking.csv', header=None, names=['date_t', 'trend'])\n",
    "\n",
    "trends['date_t'] =  pd.to_datetime(trends['date_t'], infer_datetime_format=True,\n",
    "                              format='datetime64[ns]')\n",
    "\n",
    "data = pd.merge(data, trends, how='outer', left_on='DATE', right_on='date_t')"
   ]
  },
  {
   "cell_type": "code",
   "execution_count": 79,
   "metadata": {},
   "outputs": [
    {
     "name": "stderr",
     "output_type": "stream",
     "text": [
      "/home/afederation/anaconda3/envs/fastai/lib/python3.6/site-packages/pandas/plotting/_converter.py:129: FutureWarning: Using an implicitly registered datetime converter for a matplotlib plotting method. The converter was registered by pandas on import. Future versions of pandas will require you to explicitly register matplotlib converters.\n",
      "\n",
      "To register the converters:\n",
      "\t>>> from pandas.plotting import register_matplotlib_converters\n",
      "\t>>> register_matplotlib_converters()\n",
      "  warnings.warn(msg, FutureWarning)\n"
     ]
    },
    {
     "data": {
      "text/plain": [
       "<matplotlib.axes._subplots.AxesSubplot at 0x7c9ff0bed438>"
      ]
     },
     "execution_count": 79,
     "metadata": {},
     "output_type": "execute_result"
    },
    {
     "data": {
      "image/png": "[encoded data removed]",
      "text/plain": [
       "<Figure size 432x288 with 1 Axes>"
      ]
     },
     "metadata": {},
     "output_type": "display_data"
    }
   ],
   "source": [
    "sns.lineplot(data.DATE, data.trend.interpolate())"
   ]
  },
  {
   "cell_type": "markdown",
   "metadata": {},
   "source": [
    "This fits with my expectations, a seasaonal pattern of interest in hiking, with some variation week-to-week, which may capture information about other events happening in the area that draw people to or from the wilderness."
   ]
  },
  {
   "cell_type": "code",
   "execution_count": 81,
   "metadata": {},
   "outputs": [],
   "source": [
    "# Add data to the beginning and end of the dataset through interpolation\n",
    "data['trend'] = data.trend.interpolate(limit_direction='both')"
   ]
  },
  {
   "cell_type": "code",
   "execution_count": 82,
   "metadata": {},
   "outputs": [],
   "source": [
    "data.drop('date_t', axis=1, inplace=True)"
   ]
  },
  {
   "cell_type": "code",
   "execution_count": 83,
   "metadata": {},
   "outputs": [
    {
     "name": "stderr",
     "output_type": "stream",
     "text": [
      "/home/afederation/anaconda3/envs/fastai/lib/python3.6/site-packages/pandas/core/frame.py:3940: SettingWithCopyWarning: \n",
      "A value is trying to be set on a copy of a slice from a DataFrame\n",
      "\n",
      "See the caveats in the documentation: http://pandas.pydata.org/pandas-docs/stable/indexing.html#indexing-view-versus-copy\n",
      "  errors=errors)\n"
     ]
    },
    {
     "name": "stdout",
     "output_type": "stream",
     "text": [
      "Training Score:  0.883171580296649\n",
      "OOB Score:  0.7185497161691998\n",
      "Validate Score:  0.6682926829268293\n",
      "ROC AUC:  0.6259257779198636\n"
     ]
    },
    {
     "data": {
      "image/png": "[encoded data removed]",
      "text/plain": [
       "<Figure size 432x288 with 1 Axes>"
      ]
     },
     "metadata": {},
     "output_type": "display_data"
    },
    {
     "data": {
      "text/plain": [
       "True"
      ]
     },
     "execution_count": 83,
     "metadata": {},
     "output_type": "execute_result"
    }
   ],
   "source": [
    "# Try a model with this additional data\n",
    "X_train, y_train, X_validate, y_validate = split_train_val(data)\n",
    "m = build_RF(X_train, y_train)\n",
    "test_RF(m, X_validate, y_validate)"
   ]
  },
  {
   "cell_type": "code",
   "execution_count": 84,
   "metadata": {},
   "outputs": [
    {
     "name": "stdout",
     "output_type": "stream",
     "text": [
      "                cols       imp\n",
      "4          Dayofweek  0.081311\n",
      "35             trend  0.072331\n",
      "12           Elapsed  0.071472\n",
      "13            AWND_x  0.060005\n",
      "5          Dayofyear  0.059462\n",
      "3                Day  0.057536\n",
      "29            TMAX_y  0.056981\n",
      "16            TMAX_x  0.056607\n",
      "33   holiday_closest  0.053201\n",
      "17            TMIN_x  0.051770\n",
      "31              TOBS  0.049641\n",
      "28            TAVG_y  0.047180\n",
      "30            TMIN_y  0.044511\n",
      "2               Week  0.036096\n",
      "0               Year  0.035487\n",
      "14            PRCP_x  0.033101\n",
      "32              WESD  0.026332\n",
      "26            PRCP_y  0.025478\n",
      "27              SNWD  0.018888\n",
      "15            TAVG_x  0.017847\n",
      "1              Month  0.016038\n",
      "25            AWND_y  0.015123\n",
      "19              WT01  0.006197\n",
      "23              WT08  0.003291\n",
      "34           holiday  0.000957\n",
      "7     Is_month_start  0.000847\n",
      "6       Is_month_end  0.000689\n",
      "20              WT02  0.000603\n",
      "9   Is_quarter_start  0.000576\n",
      "8     Is_quarter_end  0.000248\n",
      "11     Is_year_start  0.000111\n",
      "21              WT03  0.000043\n",
      "10       Is_year_end  0.000041\n",
      "22              WT05  0.000000\n",
      "24              WT10  0.000000\n",
      "18              TSUN  0.000000\n"
     ]
    }
   ],
   "source": [
    "print_feat_imp(X_train, m)"
   ]
  },
  {
   "cell_type": "markdown",
   "metadata": {},
   "source": [
    "This is very puzzling to me. 'Trend' is clearly an important feature, but it doesn't improve the model by adding it in?"
   ]
  },
  {
   "cell_type": "markdown",
   "metadata": {},
   "source": [
    "## Feature Importance"
   ]
  },
  {
   "cell_type": "code",
   "execution_count": 85,
   "metadata": {},
   "outputs": [],
   "source": [
    "# Save the data table for now.\n",
    "data.to_csv(f'{interim_filepath}sar_weather_hol_trend.csv', index=False)"
   ]
  },
  {
   "cell_type": "code",
   "execution_count": null,
   "metadata": {},
   "outputs": [],
   "source": []
  }
 ],
 "metadata": {
  "kernelspec": {
   "display_name": "Python 3",
   "language": "python",
   "name": "python3"
  },
  "language_info": {
   "codemirror_mode": {
    "name": "ipython",
    "version": 3
   },
   "file_extension": ".py",
   "mimetype": "text/x-python",
   "name": "python",
   "nbconvert_exporter": "python",
   "pygments_lexer": "ipython3",
   "version": "3.6.8"
  }
 },
 "nbformat": 4,
 "nbformat_minor": 2
}
