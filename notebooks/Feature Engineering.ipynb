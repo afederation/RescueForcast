{
 "cells": [
  {
   "cell_type": "markdown",
   "metadata": {},
   "source": [
    "# Feature Engineering\n",
    "\n",
    "I'm going to outline a strategy similar to the fast.ai machine learning course. The general plan is to \n",
    "1. Build a simple, decent random forset model\n",
    "2. Use this to understand which features are most imporatnt, focus on improving and expanding upon these features\n",
    "3. Step back with improved features and try a set of models to find the best for this application\n",
    "4. Tune hyperparamaters\n",
    "\n",
    "First, though, I need a validation dataset. Since the goal is to predict into the future, I'll use the chronological end of my dataset for validation. If we take everything starting in 2017 and after, that will be ~15% of the total data\n",
    "\n",
    "## Basic Model\n",
    "\n",
    "First, I'll make a basic RF model, then use this to test the effect of adding some additional datasets on top of our data."
   ]
  },
  {
   "cell_type": "code",
   "execution_count": 98,
   "metadata": {},
   "outputs": [],
   "source": [
    "import pandas as pd\n",
    "import numpy as np\n",
    "import re\n",
    "import matplotlib.pyplot as plt\n",
    "import seaborn as sns\n",
    "\n",
    "from sklearn.ensemble import RandomForestClassifier\n",
    "from sklearn.metrics import roc_auc_score, roc_curve\n",
    "\n",
    "sns.set()\n",
    "%matplotlib inline"
   ]
  },
  {
   "cell_type": "code",
   "execution_count": 99,
   "metadata": {},
   "outputs": [
    {
     "name": "stdout",
     "output_type": "stream",
     "text": [
      "(5461, 35) (820, 35)\n"
     ]
    }
   ],
   "source": [
    "data = pd.read_csv('sar_weather_df.csv')\n",
    "\n",
    "validate = data[data.Year > 2016]\n",
    "train = data[data.Year <= 2016]\n",
    "\n",
    "print(train.shape, validate.shape)"
   ]
  },
  {
   "cell_type": "code",
   "execution_count": 100,
   "metadata": {},
   "outputs": [
    {
     "name": "stdout",
     "output_type": "stream",
     "text": [
      "Index(['mission', 'Year', 'Month', 'Week', 'Day', 'Dayofweek', 'Dayofyear',\n",
      "       'Is_month_end', 'Is_month_start', 'Is_quarter_end', 'Is_quarter_start',\n",
      "       'Is_year_end', 'Is_year_start', 'Elapsed', 'DATE', 'AWND_x', 'PRCP_x',\n",
      "       'TAVG_x', 'TMAX_x', 'TMIN_x', 'TSUN', 'WT01', 'WT02', 'WT03', 'WT05',\n",
      "       'WT08', 'WT10', 'AWND_y', 'PRCP_y', 'SNWD', 'TAVG_y', 'TMAX_y',\n",
      "       'TMIN_y', 'TOBS', 'WESD'],\n",
      "      dtype='object')\n"
     ]
    },
    {
     "name": "stderr",
     "output_type": "stream",
     "text": [
      "/home/afederation/anaconda3/lib/python3.7/site-packages/pandas/core/frame.py:3940: SettingWithCopyWarning: \n",
      "A value is trying to be set on a copy of a slice from a DataFrame\n",
      "\n",
      "See the caveats in the documentation: http://pandas.pydata.org/pandas-docs/stable/indexing.html#indexing-view-versus-copy\n",
      "  errors=errors)\n"
     ]
    }
   ],
   "source": [
    "print(train.columns)\n",
    "\n",
    "# remove the date for RF training\n",
    "train.drop('DATE', axis=1, inplace=True)\n",
    "validate.drop('DATE', axis=1, inplace=True)"
   ]
  },
  {
   "cell_type": "code",
   "execution_count": 101,
   "metadata": {},
   "outputs": [],
   "source": [
    "y_train = train['mission']\n",
    "X_train = train.drop('mission', axis=1)\n",
    "\n",
    "y_validate = validate['mission']\n",
    "X_validate = validate.drop('mission', axis=1)"
   ]
  },
  {
   "cell_type": "code",
   "execution_count": 102,
   "metadata": {},
   "outputs": [
    {
     "name": "stdout",
     "output_type": "stream",
     "text": [
      "0.8655923823475554\n",
      "0.6743902439024391\n",
      "0.7220289324299579\n"
     ]
    }
   ],
   "source": [
    "m = RandomForestClassifier(n_estimators=100, min_samples_leaf=4, n_jobs=-1, oob_score=True)\n",
    "m.fit(X_train, y_train)\n",
    "print(m.score(X_train, y_train))\n",
    "print(m.score(X_validate, y_validate))\n",
    "print(m.oob_score_)"
   ]
  },
  {
   "cell_type": "markdown",
   "metadata": {},
   "source": [
    "The build in scoring functions probably aren't ideal, since there's only a mission 29% of the time. First, I'll calculate precision and recall and compare to a naive model that always predicts the major class (0)."
   ]
  },
  {
   "cell_type": "code",
   "execution_count": 103,
   "metadata": {},
   "outputs": [],
   "source": [
    "y_score = [x[1] for x in m.predict_proba(X_validate)]"
   ]
  },
  {
   "cell_type": "code",
   "execution_count": 104,
   "metadata": {},
   "outputs": [
    {
     "name": "stdout",
     "output_type": "stream",
     "text": [
      "0.621110400682012\n",
      "0.5\n"
     ]
    }
   ],
   "source": [
    "print(roc_auc_score(y_validate,y_score)) # my model\n",
    "print(roc_auc_score(y_validate, 0.29*np.ones(len(y_validate)))) # naive model\n"
   ]
  },
  {
   "cell_type": "code",
   "execution_count": 105,
   "metadata": {},
   "outputs": [
    {
     "data": {
      "image/png": "[encoded data removed]",
      "text/plain": [
       "<Figure size 432x288 with 1 Axes>"
      ]
     },
     "metadata": {
      "needs_background": "light"
     },
     "output_type": "display_data"
    }
   ],
   "source": [
    "fpr, tpr, thresholds = roc_curve(y_validate, y_score)\n",
    "\n",
    "plt.plot(fpr, tpr)\n",
    "plt.plot([0, 1], [0, 1], linestyle='--', lw=2, color='r',\n",
    "         label='Chance', alpha=.8)\n",
    "plt.xlim([-0.05, 1.05])\n",
    "plt.ylim([-0.05, 1.05])\n",
    "plt.xlabel('False Positive Rate')\n",
    "plt.ylabel('True Positive Rate')\n",
    "plt.title('ROC Curve')\n",
    "plt.legend(loc=\"lower right\")\n",
    "plt.show()\n"
   ]
  },
  {
   "cell_type": "code",
   "execution_count": 106,
   "metadata": {},
   "outputs": [],
   "source": [
    "## Automate the splitting, training and validation\n",
    "\n",
    "def split_train_val(data):\n",
    "    validate = data[data.Year > 2016]\n",
    "    train = data[data.Year <= 2016]\n",
    "\n",
    "    train.drop('DATE', axis=1, inplace=True)\n",
    "    validate.drop('DATE', axis=1, inplace=True)\n",
    "    \n",
    "    y_train = train['mission']\n",
    "    X_train = train.drop('mission', axis=1)\n",
    "\n",
    "    y_validate = validate['mission']\n",
    "    X_validate = validate.drop('mission', axis=1)\n",
    "    \n",
    "    return X_train, y_train, X_validate, y_validate\n",
    "\n",
    "\n",
    "def build_RF(X_train, y_train):\n",
    "    m = RandomForestClassifier(n_estimators=100, min_samples_leaf=4, n_jobs=-1, oob_score=True)\n",
    "    m.fit(X_train, y_train)\n",
    "    print('Training Score: ', m.score(X_train, y_train))\n",
    "    print('OOB Score: ', m.oob_score_)\n",
    "    return m\n",
    "    \n",
    "def test_RF(m, X_validate, y_validate):\n",
    "    print('Validate Score: ',m.score(X_validate, y_validate))\n",
    "    y_score = [x[1] for x in m.predict_proba(X_validate)]\n",
    "    print('ROC AUC: ', roc_auc_score(y_validate,y_score)) # my model\n",
    "    fpr, tpr, thresholds = roc_curve(y_validate, y_score)\n",
    "\n",
    "    plt.plot(fpr, tpr)\n",
    "    plt.plot([0, 1], [0, 1], linestyle='--', lw=2, color='r',\n",
    "         label='Chance', alpha=.8)\n",
    "    plt.xlim([-0.05, 1.05])\n",
    "    plt.ylim([-0.05, 1.05])\n",
    "    plt.xlabel('False Positive Rate')\n",
    "    plt.ylabel('True Positive Rate')\n",
    "    plt.title('ROC Curve')\n",
    "    plt.legend(loc=\"lower right\")\n",
    "    plt.show()\n",
    "    return True"
   ]
  },
  {
   "cell_type": "code",
   "execution_count": 107,
   "metadata": {},
   "outputs": [
    {
     "name": "stdout",
     "output_type": "stream",
     "text": [
      "                0           1\n",
      "count  820.000000  820.000000\n",
      "mean     0.655014    0.344986\n",
      "std      0.105940    0.105940\n",
      "min      0.294361    0.102827\n",
      "25%      0.580784    0.274755\n",
      "50%      0.664219    0.335781\n",
      "75%      0.725245    0.419216\n",
      "max      0.897173    0.705639\n"
     ]
    },
    {
     "data": {
      "image/png": "[encoded data removed]",
      "text/plain": [
       "<Figure size 432x288 with 1 Axes>"
      ]
     },
     "metadata": {
      "needs_background": "light"
     },
     "output_type": "display_data"
    }
   ],
   "source": [
    "predictions = pd.DataFrame(m.predict_proba(X_validate))\n",
    "sns.distplot(predictions[1], bins=10) #plot the prediction liklihood of a mission\n",
    "print(predictions.describe())"
   ]
  },
  {
   "cell_type": "markdown",
   "metadata": {},
   "source": [
    "Interesting. It's never more than 73% sure that a mission will happen. The negative predictive power is a bit better, getting as low as 12% liklihood. \n",
    "\n",
    "How can we improve our predictions? Add more features? Holidays? Google Data?"
   ]
  },
  {
   "cell_type": "markdown",
   "metadata": {},
   "source": [
    "## Adding additional features\n",
    "\n",
    "Let's consider twp ypes of data that are avaliable to add.\n",
    "- Holiday data\n",
    "- Google Trends"
   ]
  },
  {
   "cell_type": "markdown",
   "metadata": {},
   "source": [
    "### Holiday Data\n",
    "\n",
    "Let's start with the US federal holidays and add them to the dataset as a bool. We also expect that the days surrounding a holiday may see an increase or decrease in missions as well. \n",
    "\n",
    "We'll use a list of holidays from pandas"
   ]
  },
  {
   "cell_type": "code",
   "execution_count": 108,
   "metadata": {},
   "outputs": [],
   "source": [
    "import pandas.tseries.holiday as hol\n",
    "\n",
    "us_cal = hol.USFederalHolidayCalendar()\n",
    "dr = pd.date_range(start='2002-01-01', end='2019-05-01')\n",
    "us_holidays = us_cal.holidays(start=dr.min(), end=dr.max())"
   ]
  },
  {
   "cell_type": "code",
   "execution_count": 109,
   "metadata": {},
   "outputs": [],
   "source": [
    "# Add column holiday bool to data\n",
    "\n",
    "data['holiday'] = 0\n",
    "data['DATE'] =  pd.to_datetime(data['DATE'], infer_datetime_format=True,\n",
    "                              format='datetime64[ns]')\n",
    "data['holiday'] = data.DATE.isin(us_holidays)\n",
    "\n",
    "# Insert the number of days before and after closest holiday\n",
    "\n",
    "holiday = data.holiday\n",
    "since = []\n",
    "d = 0\n",
    "for i in range(len(holiday)):\n",
    "    d += 1\n",
    "    if holiday[i]:\n",
    "        d = 0   # if it's a holiday, reset\n",
    "    since.append(d)\n",
    "#data['holiday_days_since'] = since\n",
    "\n",
    "before = []\n",
    "d = 0\n",
    "for i in range(len(holiday)):\n",
    "    d += 1\n",
    "    if holiday[len(holiday) - (i+1)]:\n",
    "        d = 0   # if it's a holiday, reset\n",
    "    before.append(d)\n",
    "#data['holiday_days_before'] = before\n",
    "\n",
    "data['holiday_closest'] = np.minimum(since, before)"
   ]
  },
  {
   "cell_type": "code",
   "execution_count": 110,
   "metadata": {},
   "outputs": [
    {
     "name": "stderr",
     "output_type": "stream",
     "text": [
      "/home/afederation/anaconda3/lib/python3.7/site-packages/pandas/core/frame.py:3940: SettingWithCopyWarning: \n",
      "A value is trying to be set on a copy of a slice from a DataFrame\n",
      "\n",
      "See the caveats in the documentation: http://pandas.pydata.org/pandas-docs/stable/indexing.html#indexing-view-versus-copy\n",
      "  errors=errors)\n"
     ]
    },
    {
     "name": "stdout",
     "output_type": "stream",
     "text": [
      "Training Score:  0.8615638161508881\n",
      "OOB Score:  0.7201977659769273\n",
      "Validate Score:  0.6780487804878049\n",
      "ROC AUC:  0.6331788150042625\n"
     ]
    },
    {
     "data": {
      "image/png": "[encoded data removed]",
      "text/plain": [
       "<Figure size 432x288 with 1 Axes>"
      ]
     },
     "metadata": {
      "needs_background": "light"
     },
     "output_type": "display_data"
    },
    {
     "data": {
      "text/plain": [
       "True"
      ]
     },
     "execution_count": 110,
     "metadata": {},
     "output_type": "execute_result"
    }
   ],
   "source": [
    "# Test it's effect on the model\n",
    "\n",
    "X_train, y_train, X_validate, y_validate = split_train_val(data)\n",
    "m = build_RF(X_train, y_train)\n",
    "test_RF(m, X_validate, y_validate)"
   ]
  },
  {
   "cell_type": "markdown",
   "metadata": {},
   "source": [
    "By testing out different combinations of these, it looks like the 'closest holiday' column without the 'before' and 'since' give the strongest improvement. It's a pretty minimal improvement, though."
   ]
  },
  {
   "cell_type": "markdown",
   "metadata": {},
   "source": [
    "### Google Trends Data\n",
    "\n",
    "Positives - a cool feature of google trends are ...\n",
    "\n",
    "This was a little bit annoying to get. Google scales the frequency of data output based on how much data you look at. So for example, if I download the entire dataset"
   ]
  },
  {
   "cell_type": "code",
   "execution_count": 112,
   "metadata": {},
   "outputs": [],
   "source": [
    "trends = pd.read_csv('raw_data/googletrends_hiking.csv', header=None, names=['date_t', 'trend'])\n",
    "\n",
    "trends['date_t'] =  pd.to_datetime(trends['date_t'], infer_datetime_format=True,\n",
    "                              format='datetime64[ns]')\n",
    "\n",
    "data = pd.merge(data, trends, how='outer', left_on='DATE', right_on='date_t')"
   ]
  },
  {
   "cell_type": "code",
   "execution_count": 118,
   "metadata": {},
   "outputs": [
    {
     "name": "stderr",
     "output_type": "stream",
     "text": [
      "/home/afederation/anaconda3/lib/python3.7/site-packages/pandas/plotting/_converter.py:129: FutureWarning: Using an implicitly registered datetime converter for a matplotlib plotting method. The converter was registered by pandas on import. Future versions of pandas will require you to explicitly register matplotlib converters.\n",
      "\n",
      "To register the converters:\n",
      "\t>>> from pandas.plotting import register_matplotlib_converters\n",
      "\t>>> register_matplotlib_converters()\n",
      "  warnings.warn(msg, FutureWarning)\n"
     ]
    },
    {
     "data": {
      "text/plain": [
       "<matplotlib.axes._subplots.AxesSubplot at 0x7928edf68470>"
      ]
     },
     "execution_count": 118,
     "metadata": {},
     "output_type": "execute_result"
    },
    {
     "data": {
      "image/png": "[encoded data removed]",
      "text/plain": [
       "<Figure size 432x288 with 1 Axes>"
      ]
     },
     "metadata": {
      "needs_background": "light"
     },
     "output_type": "display_data"
    }
   ],
   "source": [
    "sns.lineplot(data.DATE, data.trend.interpolate())"
   ]
  },
  {
   "cell_type": "code",
   "execution_count": 120,
   "metadata": {},
   "outputs": [],
   "source": [
    "data['trend'] = data.trend.interpolate(limit_direction='both')"
   ]
  },
  {
   "cell_type": "code",
   "execution_count": 121,
   "metadata": {},
   "outputs": [],
   "source": [
    "data.drop('date_t', axis=1, inplace=True)"
   ]
  },
  {
   "cell_type": "code",
   "execution_count": 122,
   "metadata": {},
   "outputs": [
    {
     "name": "stderr",
     "output_type": "stream",
     "text": [
      "/home/afederation/anaconda3/lib/python3.7/site-packages/pandas/core/frame.py:3940: SettingWithCopyWarning: \n",
      "A value is trying to be set on a copy of a slice from a DataFrame\n",
      "\n",
      "See the caveats in the documentation: http://pandas.pydata.org/pandas-docs/stable/indexing.html#indexing-view-versus-copy\n",
      "  errors=errors)\n"
     ]
    },
    {
     "name": "stdout",
     "output_type": "stream",
     "text": [
      "Training Score:  0.8846365134590735\n",
      "OOB Score:  0.7196484160410181\n",
      "Validate Score:  0.6743902439024391\n",
      "ROC AUC:  0.6338714833759591\n"
     ]
    },
    {
     "data": {
      "image/png": "[encoded data removed]",
      "text/plain": [
       "<Figure size 432x288 with 1 Axes>"
      ]
     },
     "metadata": {
      "needs_background": "light"
     },
     "output_type": "display_data"
    },
    {
     "data": {
      "text/plain": [
       "True"
      ]
     },
     "execution_count": 122,
     "metadata": {},
     "output_type": "execute_result"
    }
   ],
   "source": [
    "X_train, y_train, X_validate, y_validate = split_train_val(data)\n",
    "m = build_RF(X_train, y_train)\n",
    "test_RF(m, X_validate, y_validate)"
   ]
  },
  {
   "cell_type": "code",
   "execution_count": 123,
   "metadata": {},
   "outputs": [
    {
     "data": {
      "text/plain": [
       "(6289, 38)"
      ]
     },
     "execution_count": 123,
     "metadata": {},
     "output_type": "execute_result"
    }
   ],
   "source": [
    "data.shape"
   ]
  },
  {
   "cell_type": "markdown",
   "metadata": {},
   "source": [
    "## Feature Importance"
   ]
  },
  {
   "cell_type": "code",
   "execution_count": 124,
   "metadata": {},
   "outputs": [
    {
     "data": {
      "text/html": [
       "<div>\n",
       "<style scoped>\n",
       "    .dataframe tbody tr th:only-of-type {\n",
       "        vertical-align: middle;\n",
       "    }\n",
       "\n",
       "    .dataframe tbody tr th {\n",
       "        vertical-align: top;\n",
       "    }\n",
       "\n",
       "    .dataframe thead th {\n",
       "        text-align: right;\n",
       "    }\n",
       "</style>\n",
       "<table border=\"1\" class=\"dataframe\">\n",
       "  <thead>\n",
       "    <tr style=\"text-align: right;\">\n",
       "      <th></th>\n",
       "      <th>cols</th>\n",
       "      <th>imp</th>\n",
       "    </tr>\n",
       "  </thead>\n",
       "  <tbody>\n",
       "    <tr>\n",
       "      <th>4</th>\n",
       "      <td>Dayofweek</td>\n",
       "      <td>0.081352</td>\n",
       "    </tr>\n",
       "    <tr>\n",
       "      <th>35</th>\n",
       "      <td>trend</td>\n",
       "      <td>0.078909</td>\n",
       "    </tr>\n",
       "    <tr>\n",
       "      <th>12</th>\n",
       "      <td>Elapsed</td>\n",
       "      <td>0.072479</td>\n",
       "    </tr>\n",
       "    <tr>\n",
       "      <th>13</th>\n",
       "      <td>AWND_x</td>\n",
       "      <td>0.059555</td>\n",
       "    </tr>\n",
       "    <tr>\n",
       "      <th>29</th>\n",
       "      <td>TMAX_y</td>\n",
       "      <td>0.059235</td>\n",
       "    </tr>\n",
       "    <tr>\n",
       "      <th>5</th>\n",
       "      <td>Dayofyear</td>\n",
       "      <td>0.059067</td>\n",
       "    </tr>\n",
       "    <tr>\n",
       "      <th>3</th>\n",
       "      <td>Day</td>\n",
       "      <td>0.056998</td>\n",
       "    </tr>\n",
       "    <tr>\n",
       "      <th>16</th>\n",
       "      <td>TMAX_x</td>\n",
       "      <td>0.055668</td>\n",
       "    </tr>\n",
       "    <tr>\n",
       "      <th>34</th>\n",
       "      <td>holiday_closest</td>\n",
       "      <td>0.053207</td>\n",
       "    </tr>\n",
       "    <tr>\n",
       "      <th>17</th>\n",
       "      <td>TMIN_x</td>\n",
       "      <td>0.051670</td>\n",
       "    </tr>\n",
       "    <tr>\n",
       "      <th>31</th>\n",
       "      <td>TOBS</td>\n",
       "      <td>0.048369</td>\n",
       "    </tr>\n",
       "    <tr>\n",
       "      <th>30</th>\n",
       "      <td>TMIN_y</td>\n",
       "      <td>0.045384</td>\n",
       "    </tr>\n",
       "    <tr>\n",
       "      <th>28</th>\n",
       "      <td>TAVG_y</td>\n",
       "      <td>0.043127</td>\n",
       "    </tr>\n",
       "    <tr>\n",
       "      <th>2</th>\n",
       "      <td>Week</td>\n",
       "      <td>0.036451</td>\n",
       "    </tr>\n",
       "    <tr>\n",
       "      <th>0</th>\n",
       "      <td>Year</td>\n",
       "      <td>0.032845</td>\n",
       "    </tr>\n",
       "    <tr>\n",
       "      <th>14</th>\n",
       "      <td>PRCP_x</td>\n",
       "      <td>0.032486</td>\n",
       "    </tr>\n",
       "    <tr>\n",
       "      <th>26</th>\n",
       "      <td>PRCP_y</td>\n",
       "      <td>0.025505</td>\n",
       "    </tr>\n",
       "    <tr>\n",
       "      <th>32</th>\n",
       "      <td>WESD</td>\n",
       "      <td>0.024133</td>\n",
       "    </tr>\n",
       "    <tr>\n",
       "      <th>27</th>\n",
       "      <td>SNWD</td>\n",
       "      <td>0.019081</td>\n",
       "    </tr>\n",
       "    <tr>\n",
       "      <th>15</th>\n",
       "      <td>TAVG_x</td>\n",
       "      <td>0.017350</td>\n",
       "    </tr>\n",
       "    <tr>\n",
       "      <th>25</th>\n",
       "      <td>AWND_y</td>\n",
       "      <td>0.016401</td>\n",
       "    </tr>\n",
       "    <tr>\n",
       "      <th>1</th>\n",
       "      <td>Month</td>\n",
       "      <td>0.015612</td>\n",
       "    </tr>\n",
       "    <tr>\n",
       "      <th>19</th>\n",
       "      <td>WT01</td>\n",
       "      <td>0.006759</td>\n",
       "    </tr>\n",
       "    <tr>\n",
       "      <th>23</th>\n",
       "      <td>WT08</td>\n",
       "      <td>0.003499</td>\n",
       "    </tr>\n",
       "    <tr>\n",
       "      <th>33</th>\n",
       "      <td>holiday</td>\n",
       "      <td>0.001671</td>\n",
       "    </tr>\n",
       "    <tr>\n",
       "      <th>6</th>\n",
       "      <td>Is_month_end</td>\n",
       "      <td>0.000786</td>\n",
       "    </tr>\n",
       "    <tr>\n",
       "      <th>7</th>\n",
       "      <td>Is_month_start</td>\n",
       "      <td>0.000633</td>\n",
       "    </tr>\n",
       "    <tr>\n",
       "      <th>9</th>\n",
       "      <td>Is_quarter_start</td>\n",
       "      <td>0.000612</td>\n",
       "    </tr>\n",
       "    <tr>\n",
       "      <th>8</th>\n",
       "      <td>Is_quarter_end</td>\n",
       "      <td>0.000506</td>\n",
       "    </tr>\n",
       "    <tr>\n",
       "      <th>20</th>\n",
       "      <td>WT02</td>\n",
       "      <td>0.000417</td>\n",
       "    </tr>\n",
       "    <tr>\n",
       "      <th>11</th>\n",
       "      <td>Is_year_start</td>\n",
       "      <td>0.000149</td>\n",
       "    </tr>\n",
       "    <tr>\n",
       "      <th>21</th>\n",
       "      <td>WT03</td>\n",
       "      <td>0.000085</td>\n",
       "    </tr>\n",
       "    <tr>\n",
       "      <th>22</th>\n",
       "      <td>WT05</td>\n",
       "      <td>0.000000</td>\n",
       "    </tr>\n",
       "    <tr>\n",
       "      <th>24</th>\n",
       "      <td>WT10</td>\n",
       "      <td>0.000000</td>\n",
       "    </tr>\n",
       "    <tr>\n",
       "      <th>10</th>\n",
       "      <td>Is_year_end</td>\n",
       "      <td>0.000000</td>\n",
       "    </tr>\n",
       "    <tr>\n",
       "      <th>18</th>\n",
       "      <td>TSUN</td>\n",
       "      <td>0.000000</td>\n",
       "    </tr>\n",
       "  </tbody>\n",
       "</table>\n",
       "</div>"
      ],
      "text/plain": [
       "                cols       imp\n",
       "4          Dayofweek  0.081352\n",
       "35             trend  0.078909\n",
       "12           Elapsed  0.072479\n",
       "13            AWND_x  0.059555\n",
       "29            TMAX_y  0.059235\n",
       "5          Dayofyear  0.059067\n",
       "3                Day  0.056998\n",
       "16            TMAX_x  0.055668\n",
       "34   holiday_closest  0.053207\n",
       "17            TMIN_x  0.051670\n",
       "31              TOBS  0.048369\n",
       "30            TMIN_y  0.045384\n",
       "28            TAVG_y  0.043127\n",
       "2               Week  0.036451\n",
       "0               Year  0.032845\n",
       "14            PRCP_x  0.032486\n",
       "26            PRCP_y  0.025505\n",
       "32              WESD  0.024133\n",
       "27              SNWD  0.019081\n",
       "15            TAVG_x  0.017350\n",
       "25            AWND_y  0.016401\n",
       "1              Month  0.015612\n",
       "19              WT01  0.006759\n",
       "23              WT08  0.003499\n",
       "33           holiday  0.001671\n",
       "6       Is_month_end  0.000786\n",
       "7     Is_month_start  0.000633\n",
       "9   Is_quarter_start  0.000612\n",
       "8     Is_quarter_end  0.000506\n",
       "20              WT02  0.000417\n",
       "11     Is_year_start  0.000149\n",
       "21              WT03  0.000085\n",
       "22              WT05  0.000000\n",
       "24              WT10  0.000000\n",
       "10       Is_year_end  0.000000\n",
       "18              TSUN  0.000000"
      ]
     },
     "execution_count": 124,
     "metadata": {},
     "output_type": "execute_result"
    }
   ],
   "source": [
    "def rf_feat_importance(m, df):\n",
    "    return pd.DataFrame({'cols':df.columns, 'imp':m.feature_importances_}\n",
    "                       ).sort_values('imp', ascending=False)\n",
    "\n",
    "fi = rf_feat_importance(m, X_train); fi"
   ]
  },
  {
   "cell_type": "code",
   "execution_count": 132,
   "metadata": {},
   "outputs": [
    {
     "name": "stdout",
     "output_type": "stream",
     "text": [
      "<class 'pandas.core.frame.DataFrame'>\n",
      "Int64Index: 6289 entries, 0 to 6288\n",
      "Data columns (total 38 columns):\n",
      "mission             6281 non-null float64\n",
      "Year                6281 non-null float64\n",
      "Month               6281 non-null float64\n",
      "Week                6281 non-null float64\n",
      "Day                 6281 non-null float64\n",
      "Dayofweek           6281 non-null float64\n",
      "Dayofyear           6281 non-null float64\n",
      "Is_month_end        6289 non-null bool\n",
      "Is_month_start      6289 non-null bool\n",
      "Is_quarter_end      6289 non-null bool\n",
      "Is_quarter_start    6289 non-null bool\n",
      "Is_year_end         6289 non-null bool\n",
      "Is_year_start       6289 non-null bool\n",
      "Elapsed             6281 non-null float64\n",
      "DATE                6281 non-null datetime64[ns]\n",
      "AWND_x              6281 non-null float64\n",
      "PRCP_x              6281 non-null float64\n",
      "TAVG_x              6281 non-null float64\n",
      "TMAX_x              6281 non-null float64\n",
      "TMIN_x              6281 non-null float64\n",
      "TSUN                6281 non-null float64\n",
      "WT01                6281 non-null float64\n",
      "WT02                6281 non-null float64\n",
      "WT03                6281 non-null float64\n",
      "WT05                6281 non-null float64\n",
      "WT08                6281 non-null float64\n",
      "WT10                6281 non-null float64\n",
      "AWND_y              6281 non-null float64\n",
      "PRCP_y              6281 non-null float64\n",
      "SNWD                6281 non-null float64\n",
      "TAVG_y              6281 non-null float64\n",
      "TMAX_y              6281 non-null float64\n",
      "TMIN_y              6281 non-null float64\n",
      "TOBS                6281 non-null float64\n",
      "WESD                6281 non-null float64\n",
      "holiday             6289 non-null bool\n",
      "holiday_closest     6281 non-null float64\n",
      "trend               6289 non-null float64\n",
      "dtypes: bool(7), datetime64[ns](1), float64(30)\n",
      "memory usage: 1.6 MB\n"
     ]
    }
   ],
   "source": [
    "column_names = ['Is_month_end','Is_month_start','Is_quarter_end','Is_quarter_start','Is_year_end','Is_year_start','holiday']\n",
    "data[column_names] = data[column_names].astype(bool)\n",
    "data.info()"
   ]
  },
  {
   "cell_type": "code",
   "execution_count": 133,
   "metadata": {},
   "outputs": [],
   "source": [
    "# Save the data table for now.\n",
    "data.to_csv('sar_weather_df_postengineering.csv', index=False)"
   ]
  },
  {
   "cell_type": "code",
   "execution_count": null,
   "metadata": {},
   "outputs": [],
   "source": []
  }
 ],
 "metadata": {
  "kernelspec": {
   "display_name": "Python 3",
   "language": "python",
   "name": "python3"
  },
  "language_info": {
   "codemirror_mode": {
    "name": "ipython",
    "version": 3
   },
   "file_extension": ".py",
   "mimetype": "text/x-python",
   "name": "python",
   "nbconvert_exporter": "python",
   "pygments_lexer": "ipython3",
   "version": "3.7.3"
  }
 },
 "nbformat": 4,
 "nbformat_minor": 2
}
