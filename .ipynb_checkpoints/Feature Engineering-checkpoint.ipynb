{
 "cells": [
  {
   "cell_type": "markdown",
   "metadata": {},
   "source": [
    "# Feature Engineering\n",
    "\n",
    "I'm going to outline a strategy similar to the fast.ai machine learning course. The general plan is to \n",
    "1. Build a simple, decent random forset model\n",
    "2. Use this to understand which features are most imporatnt, focus on improving and expanding upon these features\n",
    "3. Step back with improved features and try a set of models to find the best for this application\n",
    "4. Tune hyperparamaters\n",
    "\n",
    "First, though, I need a validation dataset. Since the goal is to predict into the future, I'll use the chronological end of my dataset for validation. If we take everything starting in 2017 and after, that will be ~15% of the total data\n",
    "\n",
    "## Basic Model\n",
    "\n",
    "First, I'll make a basic RF model, then use this to test the effect of adding some additional datasets on top of our data."
   ]
  },
  {
   "cell_type": "code",
   "execution_count": 108,
   "metadata": {},
   "outputs": [],
   "source": [
    "import pandas as pd\n",
    "import numpy as np\n",
    "import re\n",
    "import matplotlib.pyplot as plt\n",
    "import seaborn as sns\n",
    "\n",
    "from sklearn.ensemble import RandomForestClassifier\n",
    "from sklearn.metrics import roc_auc_score, roc_curve\n",
    "\n",
    "sns.set()\n",
    "%matplotlib inline"
   ]
  },
  {
   "cell_type": "code",
   "execution_count": 109,
   "metadata": {},
   "outputs": [
    {
     "name": "stdout",
     "output_type": "stream",
     "text": [
      "(5461, 35) (820, 35)\n"
     ]
    }
   ],
   "source": [
    "data = pd.read_csv('sar_weather_df.csv')\n",
    "\n",
    "validate = data[data.Year > 2016]\n",
    "train = data[data.Year <= 2016]\n",
    "\n",
    "print(train.shape, validate.shape)"
   ]
  },
  {
   "cell_type": "code",
   "execution_count": 110,
   "metadata": {},
   "outputs": [
    {
     "name": "stdout",
     "output_type": "stream",
     "text": [
      "Index(['mission', 'Year', 'Month', 'Week', 'Day', 'Dayofweek', 'Dayofyear',\n",
      "       'Is_month_end', 'Is_month_start', 'Is_quarter_end', 'Is_quarter_start',\n",
      "       'Is_year_end', 'Is_year_start', 'Elapsed', 'DATE', 'AWND_x', 'PRCP_x',\n",
      "       'TAVG_x', 'TMAX_x', 'TMIN_x', 'TSUN', 'WT01', 'WT02', 'WT03', 'WT05',\n",
      "       'WT08', 'WT10', 'AWND_y', 'PRCP_y', 'SNWD', 'TAVG_y', 'TMAX_y',\n",
      "       'TMIN_y', 'TOBS', 'WESD'],\n",
      "      dtype='object')\n"
     ]
    },
    {
     "name": "stderr",
     "output_type": "stream",
     "text": [
      "/home/afederation/anaconda3/lib/python3.7/site-packages/pandas/core/frame.py:3940: SettingWithCopyWarning: \n",
      "A value is trying to be set on a copy of a slice from a DataFrame\n",
      "\n",
      "See the caveats in the documentation: http://pandas.pydata.org/pandas-docs/stable/indexing.html#indexing-view-versus-copy\n",
      "  errors=errors)\n"
     ]
    }
   ],
   "source": [
    "print(train.columns)\n",
    "\n",
    "# remove the date for RF training\n",
    "train.drop('DATE', axis=1, inplace=True)\n",
    "validate.drop('DATE', axis=1, inplace=True)"
   ]
  },
  {
   "cell_type": "code",
   "execution_count": 111,
   "metadata": {},
   "outputs": [],
   "source": [
    "y_train = train['mission']\n",
    "X_train = train.drop('mission', axis=1)\n",
    "\n",
    "y_validate = validate['mission']\n",
    "X_validate = validate.drop('mission', axis=1)"
   ]
  },
  {
   "cell_type": "code",
   "execution_count": 112,
   "metadata": {},
   "outputs": [
    {
     "name": "stdout",
     "output_type": "stream",
     "text": [
      "0.8608313495696759\n",
      "0.6743902439024391\n",
      "0.7209302325581395\n"
     ]
    }
   ],
   "source": [
    "m = RandomForestClassifier(n_estimators=100, min_samples_leaf=4, n_jobs=-1, oob_score=True)\n",
    "m.fit(X_train, y_train)\n",
    "print(m.score(X_train, y_train))\n",
    "print(m.score(X_validate, y_validate))\n",
    "print(m.oob_score_)"
   ]
  },
  {
   "cell_type": "markdown",
   "metadata": {},
   "source": [
    "The build in scoring functions probably aren't ideal, since there's only a mission 29% of the time. First, I'll calculate precision and recall and compare to a naive model that always predicts the major class (0)."
   ]
  },
  {
   "cell_type": "code",
   "execution_count": 99,
   "metadata": {},
   "outputs": [],
   "source": [
    "y_score = [x[1] for x in m.predict_proba(X_validate)]"
   ]
  },
  {
   "cell_type": "code",
   "execution_count": 100,
   "metadata": {},
   "outputs": [
    {
     "name": "stdout",
     "output_type": "stream",
     "text": [
      "0.6262920929241261\n",
      "0.5\n"
     ]
    }
   ],
   "source": [
    "print(roc_auc_score(y_validate,y_score)) # my model\n",
    "print(roc_auc_score(y_validate, 0.29*np.ones(len(y_validate)))) # naive model\n"
   ]
  },
  {
   "cell_type": "code",
   "execution_count": 101,
   "metadata": {},
   "outputs": [
    {
     "data": {
      "image/png": "[encoded data removed]",
      "text/plain": [
       "<Figure size 432x288 with 1 Axes>"
      ]
     },
     "metadata": {
      "needs_background": "light"
     },
     "output_type": "display_data"
    }
   ],
   "source": [
    "fpr, tpr, thresholds = roc_curve(y_validate, y_score)\n",
    "\n",
    "plt.plot(fpr, tpr)\n",
    "plt.plot([0, 1], [0, 1], linestyle='--', lw=2, color='r',\n",
    "         label='Chance', alpha=.8)\n",
    "plt.xlim([-0.05, 1.05])\n",
    "plt.ylim([-0.05, 1.05])\n",
    "plt.xlabel('False Positive Rate')\n",
    "plt.ylabel('True Positive Rate')\n",
    "plt.title('ROC Curve')\n",
    "plt.legend(loc=\"lower right\")\n",
    "plt.show()\n"
   ]
  },
  {
   "cell_type": "code",
   "execution_count": 121,
   "metadata": {},
   "outputs": [],
   "source": [
    "## Automate the splitting, training and validation\n",
    "\n",
    "def split_train_val(data):\n",
    "    validate = data[data.Year > 2016]\n",
    "    train = data[data.Year <= 2016]\n",
    "\n",
    "    train.drop('DATE', axis=1, inplace=True)\n",
    "    validate.drop('DATE', axis=1, inplace=True)\n",
    "    \n",
    "    y_train = train['mission']\n",
    "    X_train = train.drop('mission', axis=1)\n",
    "\n",
    "    y_validate = validate['mission']\n",
    "    X_validate = validate.drop('mission', axis=1)\n",
    "    \n",
    "    return X_train, y_train, X_validate, y_validate\n",
    "\n",
    "\n",
    "def build_RF(X_train, y_train):\n",
    "    m = RandomForestClassifier(n_estimators=100, min_samples_leaf=4, n_jobs=-1, oob_score=True)\n",
    "    m.fit(X_train, y_train)\n",
    "    print('Training Score: ', m.score(X_train, y_train))\n",
    "    print('OOB Score: ', m.oob_score_)\n",
    "    return m\n",
    "    \n",
    "def test_RF(m, X_validate, y_validate):\n",
    "    print('Validate Score: ',m.score(X_validate, y_validate))\n",
    "    y_score = [x[1] for x in m.predict_proba(X_validate)]\n",
    "    print('ROC AUC: ', roc_auc_score(y_validate,y_score)) # my model\n",
    "\n",
    "    plt.plot(fpr, tpr)\n",
    "    plt.plot([0, 1], [0, 1], linestyle='--', lw=2, color='r',\n",
    "         label='Chance', alpha=.8)\n",
    "    plt.xlim([-0.05, 1.05])\n",
    "    plt.ylim([-0.05, 1.05])\n",
    "    plt.xlabel('False Positive Rate')\n",
    "    plt.ylabel('True Positive Rate')\n",
    "    plt.title('ROC Curve')\n",
    "    plt.legend(loc=\"lower right\")\n",
    "    plt.show()\n",
    "    return True"
   ]
  },
  {
   "cell_type": "code",
   "execution_count": 129,
   "metadata": {},
   "outputs": [
    {
     "name": "stdout",
     "output_type": "stream",
     "text": [
      "                0           1\n",
      "count  820.000000  820.000000\n",
      "mean     0.662560    0.337440\n",
      "std      0.106122    0.106122\n",
      "min      0.320471    0.102973\n",
      "25%      0.592471    0.262984\n",
      "50%      0.672851    0.327149\n",
      "75%      0.737016    0.407529\n",
      "max      0.897027    0.679529\n"
     ]
    },
    {
     "data": {
      "image/png": "[encoded data removed]",
      "text/plain": [
       "<Figure size 432x288 with 1 Axes>"
      ]
     },
     "metadata": {
      "needs_background": "light"
     },
     "output_type": "display_data"
    }
   ],
   "source": [
    "predictions = pd.DataFrame(m.predict_proba(X_validate))\n",
    "sns.distplot(predictions[1], bins=10) #plot the prediction liklihood of a mission\n",
    "print(predictions.describe())"
   ]
  },
  {
   "cell_type": "markdown",
   "metadata": {},
   "source": [
    "Interesting. It's never more than 73% sure that a mission will happen. The negative predictive power is a bit better, getting as low as 12% liklihood. \n",
    "\n",
    "How can we improve our predictions? Add more features? Holidays? Google Data?"
   ]
  },
  {
   "cell_type": "markdown",
   "metadata": {},
   "source": [
    "## Adding additional features\n",
    "\n",
    "Let's consider twp ypes of data that are avaliable to add.\n",
    "- Holiday data\n",
    "- Google Trends"
   ]
  },
  {
   "cell_type": "markdown",
   "metadata": {},
   "source": [
    "### Holiday Data\n",
    "\n",
    "Let's start with the US federal holidays and add them to the dataset as a bool. We also expect that the days surrounding a holiday may see an increase or decrease in missions as well. \n",
    "\n",
    "We'll use a list of holidays from pandas"
   ]
  },
  {
   "cell_type": "code",
   "execution_count": 123,
   "metadata": {},
   "outputs": [],
   "source": [
    "import pandas.tseries.holiday as hol\n",
    "\n",
    "us_cal = hol.USFederalHolidayCalendar()\n",
    "dr = pd.date_range(start='2002-01-01', end='2019-05-01')\n",
    "us_holidays = us_cal.holidays(start=dr.min(), end=dr.max())"
   ]
  },
  {
   "cell_type": "code",
   "execution_count": 124,
   "metadata": {},
   "outputs": [],
   "source": [
    "# Add column holiday bool to data\n",
    "\n",
    "data['holiday'] = 0\n",
    "data['DATE'] =  pd.to_datetime(data['DATE'], infer_datetime_format=True,\n",
    "                              format='datetime64[ns]')\n",
    "data['holiday'] = data.DATE.isin(us_holidays)\n",
    "\n",
    "# Insert the number of days before and after closest holiday\n",
    "\n",
    "holiday = data.holiday\n",
    "since = []\n",
    "d = 0\n",
    "for i in range(len(holiday)):\n",
    "    d += 1\n",
    "    if holiday[i]:\n",
    "        d = 0   # if it's a holiday, reset\n",
    "    since.append(d)\n",
    "#data['holiday_days_since'] = since\n",
    "\n",
    "before = []\n",
    "d = 0\n",
    "for i in range(len(holiday)):\n",
    "    d += 1\n",
    "    if holiday[len(holiday) - (i+1)]:\n",
    "        d = 0   # if it's a holiday, reset\n",
    "    before.append(d)\n",
    "#data['holiday_days_before'] = before\n",
    "\n",
    "data['holiday_closest'] = np.minimum(since, before)"
   ]
  },
  {
   "cell_type": "code",
   "execution_count": 128,
   "metadata": {},
   "outputs": [
    {
     "name": "stderr",
     "output_type": "stream",
     "text": [
      "/home/afederation/anaconda3/lib/python3.7/site-packages/pandas/core/frame.py:3940: SettingWithCopyWarning: \n",
      "A value is trying to be set on a copy of a slice from a DataFrame\n",
      "\n",
      "See the caveats in the documentation: http://pandas.pydata.org/pandas-docs/stable/indexing.html#indexing-view-versus-copy\n",
      "  errors=errors)\n"
     ]
    },
    {
     "name": "stdout",
     "output_type": "stream",
     "text": [
      "Training Score:  0.8590001831166453\n",
      "OOB Score:  0.7242263321735946\n",
      "Validate Score:  0.6804878048780488\n",
      "ROC AUC:  0.6202312446717818\n"
     ]
    },
    {
     "data": {
      "image/png": "[encoded data removed]",
      "text/plain": [
       "<Figure size 432x288 with 1 Axes>"
      ]
     },
     "metadata": {
      "needs_background": "light"
     },
     "output_type": "display_data"
    },
    {
     "data": {
      "text/plain": [
       "True"
      ]
     },
     "execution_count": 128,
     "metadata": {},
     "output_type": "execute_result"
    }
   ],
   "source": [
    "# Test it's effect on the model\n",
    "\n",
    "X_train, y_train, X_validate, y_validate = split_train_val(data)\n",
    "m = build_RF(X_train, y_train)\n",
    "test_RF(m, X_validate, y_validate)"
   ]
  },
  {
   "cell_type": "markdown",
   "metadata": {},
   "source": [
    "By testing out different combinations of these, it looks like the 'closest holiday' column without the 'before' and 'since' give the strongest improvement. It's a pretty minimal improvement, though."
   ]
  },
  {
   "cell_type": "markdown",
   "metadata": {},
   "source": [
    "### Google Trends Data\n",
    "\n",
    "Positives - a cool feature of google trends are ...\n",
    "\n",
    "This was a little bit annoying to get. Google scales the frequency of data output based on how much data you look at. So for example, if I download the entire dataset"
   ]
  },
  {
   "cell_type": "code",
   "execution_count": null,
   "metadata": {},
   "outputs": [],
   "source": [
    "trends = pd.read_csv('raw_data/')\n"
   ]
  },
  {
   "cell_type": "markdown",
   "metadata": {},
   "source": [
    "## Feature Importance"
   ]
  },
  {
   "cell_type": "code",
   "execution_count": 130,
   "metadata": {},
   "outputs": [
    {
     "data": {
      "text/html": [
       "<div>\n",
       "<style scoped>\n",
       "    .dataframe tbody tr th:only-of-type {\n",
       "        vertical-align: middle;\n",
       "    }\n",
       "\n",
       "    .dataframe tbody tr th {\n",
       "        vertical-align: top;\n",
       "    }\n",
       "\n",
       "    .dataframe thead th {\n",
       "        text-align: right;\n",
       "    }\n",
       "</style>\n",
       "<table border=\"1\" class=\"dataframe\">\n",
       "  <thead>\n",
       "    <tr style=\"text-align: right;\">\n",
       "      <th></th>\n",
       "      <th>cols</th>\n",
       "      <th>imp</th>\n",
       "    </tr>\n",
       "  </thead>\n",
       "  <tbody>\n",
       "    <tr>\n",
       "      <th>4</th>\n",
       "      <td>Dayofweek</td>\n",
       "      <td>0.084948</td>\n",
       "    </tr>\n",
       "    <tr>\n",
       "      <th>12</th>\n",
       "      <td>Elapsed</td>\n",
       "      <td>0.073878</td>\n",
       "    </tr>\n",
       "    <tr>\n",
       "      <th>13</th>\n",
       "      <td>AWND_x</td>\n",
       "      <td>0.065190</td>\n",
       "    </tr>\n",
       "    <tr>\n",
       "      <th>16</th>\n",
       "      <td>TMAX_x</td>\n",
       "      <td>0.064582</td>\n",
       "    </tr>\n",
       "    <tr>\n",
       "      <th>5</th>\n",
       "      <td>Dayofyear</td>\n",
       "      <td>0.064483</td>\n",
       "    </tr>\n",
       "    <tr>\n",
       "      <th>29</th>\n",
       "      <td>TMAX_y</td>\n",
       "      <td>0.060114</td>\n",
       "    </tr>\n",
       "    <tr>\n",
       "      <th>3</th>\n",
       "      <td>Day</td>\n",
       "      <td>0.059249</td>\n",
       "    </tr>\n",
       "    <tr>\n",
       "      <th>34</th>\n",
       "      <td>holiday_closest</td>\n",
       "      <td>0.056794</td>\n",
       "    </tr>\n",
       "    <tr>\n",
       "      <th>17</th>\n",
       "      <td>TMIN_x</td>\n",
       "      <td>0.056103</td>\n",
       "    </tr>\n",
       "    <tr>\n",
       "      <th>31</th>\n",
       "      <td>TOBS</td>\n",
       "      <td>0.051644</td>\n",
       "    </tr>\n",
       "    <tr>\n",
       "      <th>30</th>\n",
       "      <td>TMIN_y</td>\n",
       "      <td>0.048821</td>\n",
       "    </tr>\n",
       "    <tr>\n",
       "      <th>28</th>\n",
       "      <td>TAVG_y</td>\n",
       "      <td>0.047497</td>\n",
       "    </tr>\n",
       "    <tr>\n",
       "      <th>2</th>\n",
       "      <td>Week</td>\n",
       "      <td>0.043013</td>\n",
       "    </tr>\n",
       "    <tr>\n",
       "      <th>0</th>\n",
       "      <td>Year</td>\n",
       "      <td>0.038890</td>\n",
       "    </tr>\n",
       "    <tr>\n",
       "      <th>14</th>\n",
       "      <td>PRCP_x</td>\n",
       "      <td>0.034414</td>\n",
       "    </tr>\n",
       "    <tr>\n",
       "      <th>26</th>\n",
       "      <td>PRCP_y</td>\n",
       "      <td>0.028157</td>\n",
       "    </tr>\n",
       "    <tr>\n",
       "      <th>32</th>\n",
       "      <td>WESD</td>\n",
       "      <td>0.025656</td>\n",
       "    </tr>\n",
       "    <tr>\n",
       "      <th>27</th>\n",
       "      <td>SNWD</td>\n",
       "      <td>0.021469</td>\n",
       "    </tr>\n",
       "    <tr>\n",
       "      <th>1</th>\n",
       "      <td>Month</td>\n",
       "      <td>0.020675</td>\n",
       "    </tr>\n",
       "    <tr>\n",
       "      <th>15</th>\n",
       "      <td>TAVG_x</td>\n",
       "      <td>0.018275</td>\n",
       "    </tr>\n",
       "    <tr>\n",
       "      <th>25</th>\n",
       "      <td>AWND_y</td>\n",
       "      <td>0.017915</td>\n",
       "    </tr>\n",
       "    <tr>\n",
       "      <th>19</th>\n",
       "      <td>WT01</td>\n",
       "      <td>0.008648</td>\n",
       "    </tr>\n",
       "    <tr>\n",
       "      <th>23</th>\n",
       "      <td>WT08</td>\n",
       "      <td>0.003780</td>\n",
       "    </tr>\n",
       "    <tr>\n",
       "      <th>33</th>\n",
       "      <td>holiday</td>\n",
       "      <td>0.001630</td>\n",
       "    </tr>\n",
       "    <tr>\n",
       "      <th>6</th>\n",
       "      <td>Is_month_end</td>\n",
       "      <td>0.001279</td>\n",
       "    </tr>\n",
       "    <tr>\n",
       "      <th>7</th>\n",
       "      <td>Is_month_start</td>\n",
       "      <td>0.000929</td>\n",
       "    </tr>\n",
       "    <tr>\n",
       "      <th>20</th>\n",
       "      <td>WT02</td>\n",
       "      <td>0.000636</td>\n",
       "    </tr>\n",
       "    <tr>\n",
       "      <th>8</th>\n",
       "      <td>Is_quarter_end</td>\n",
       "      <td>0.000528</td>\n",
       "    </tr>\n",
       "    <tr>\n",
       "      <th>9</th>\n",
       "      <td>Is_quarter_start</td>\n",
       "      <td>0.000373</td>\n",
       "    </tr>\n",
       "    <tr>\n",
       "      <th>11</th>\n",
       "      <td>Is_year_start</td>\n",
       "      <td>0.000186</td>\n",
       "    </tr>\n",
       "    <tr>\n",
       "      <th>21</th>\n",
       "      <td>WT03</td>\n",
       "      <td>0.000177</td>\n",
       "    </tr>\n",
       "    <tr>\n",
       "      <th>10</th>\n",
       "      <td>Is_year_end</td>\n",
       "      <td>0.000069</td>\n",
       "    </tr>\n",
       "    <tr>\n",
       "      <th>24</th>\n",
       "      <td>WT10</td>\n",
       "      <td>0.000000</td>\n",
       "    </tr>\n",
       "    <tr>\n",
       "      <th>18</th>\n",
       "      <td>TSUN</td>\n",
       "      <td>0.000000</td>\n",
       "    </tr>\n",
       "    <tr>\n",
       "      <th>22</th>\n",
       "      <td>WT05</td>\n",
       "      <td>0.000000</td>\n",
       "    </tr>\n",
       "  </tbody>\n",
       "</table>\n",
       "</div>"
      ],
      "text/plain": [
       "                cols       imp\n",
       "4          Dayofweek  0.084948\n",
       "12           Elapsed  0.073878\n",
       "13            AWND_x  0.065190\n",
       "16            TMAX_x  0.064582\n",
       "5          Dayofyear  0.064483\n",
       "29            TMAX_y  0.060114\n",
       "3                Day  0.059249\n",
       "34   holiday_closest  0.056794\n",
       "17            TMIN_x  0.056103\n",
       "31              TOBS  0.051644\n",
       "30            TMIN_y  0.048821\n",
       "28            TAVG_y  0.047497\n",
       "2               Week  0.043013\n",
       "0               Year  0.038890\n",
       "14            PRCP_x  0.034414\n",
       "26            PRCP_y  0.028157\n",
       "32              WESD  0.025656\n",
       "27              SNWD  0.021469\n",
       "1              Month  0.020675\n",
       "15            TAVG_x  0.018275\n",
       "25            AWND_y  0.017915\n",
       "19              WT01  0.008648\n",
       "23              WT08  0.003780\n",
       "33           holiday  0.001630\n",
       "6       Is_month_end  0.001279\n",
       "7     Is_month_start  0.000929\n",
       "20              WT02  0.000636\n",
       "8     Is_quarter_end  0.000528\n",
       "9   Is_quarter_start  0.000373\n",
       "11     Is_year_start  0.000186\n",
       "21              WT03  0.000177\n",
       "10       Is_year_end  0.000069\n",
       "24              WT10  0.000000\n",
       "18              TSUN  0.000000\n",
       "22              WT05  0.000000"
      ]
     },
     "execution_count": 130,
     "metadata": {},
     "output_type": "execute_result"
    }
   ],
   "source": [
    "def rf_feat_importance(m, df):\n",
    "    return pd.DataFrame({'cols':df.columns, 'imp':m.feature_importances_}\n",
    "                       ).sort_values('imp', ascending=False)\n",
    "\n",
    "fi = rf_feat_importance(m, X_train); fi"
   ]
  },
  {
   "cell_type": "code",
   "execution_count": null,
   "metadata": {},
   "outputs": [],
   "source": []
  }
 ],
 "metadata": {
  "kernelspec": {
   "display_name": "Python 3",
   "language": "python",
   "name": "python3"
  },
  "language_info": {
   "codemirror_mode": {
    "name": "ipython",
    "version": 3
   },
   "file_extension": ".py",
   "mimetype": "text/x-python",
   "name": "python",
   "nbconvert_exporter": "python",
   "pygments_lexer": "ipython3",
   "version": "3.7.3"
  }
 },
 "nbformat": 4,
 "nbformat_minor": 2
}
