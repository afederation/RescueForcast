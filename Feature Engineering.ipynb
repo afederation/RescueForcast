{
 "cells": [
  {
   "cell_type": "markdown",
   "metadata": {},
   "source": [
    "# Feature Engineering\n",
    "\n",
    "I'm going to outline a strategy similar to the fast.ai machine learning course. The general plan is to \n",
    "1. Build a simple, decent random forset model\n",
    "2. Use this to understand which features are most imporatnt, focus on improving and expanding upon these features\n",
    "3. Step back with improved features and try a set of models to find the best for this application\n",
    "4. Tune hyperparamaters\n",
    "\n",
    "First, though, I need a validation dataset. Since the goal is to predict into the future, I'll use the chronological end of my dataset for validation. If we take everything starting in 2017 and after, that will be ~15% of the total data"
   ]
  },
  {
   "cell_type": "code",
   "execution_count": 61,
   "metadata": {},
   "outputs": [],
   "source": [
    "import pandas as pd\n",
    "import numpy as np\n",
    "import re\n",
    "import matplotlib.pyplot as plt\n",
    "import seaborn as sns\n",
    "from sklearn.ensemble import RandomForestClassifier\n",
    "sns.set()\n",
    "%matplotlib inline"
   ]
  },
  {
   "cell_type": "code",
   "execution_count": 62,
   "metadata": {},
   "outputs": [
    {
     "name": "stdout",
     "output_type": "stream",
     "text": [
      "(5461, 46) (820, 46)\n"
     ]
    }
   ],
   "source": [
    "data = pd.read_csv('sar_weather_df.csv')\n",
    "\n",
    "validate = data[data.Year > 2016]\n",
    "train = data[data.Year <= 2016]\n",
    "\n",
    "print(train.shape, validate.shape)"
   ]
  },
  {
   "cell_type": "code",
   "execution_count": 63,
   "metadata": {},
   "outputs": [
    {
     "name": "stdout",
     "output_type": "stream",
     "text": [
      "Index(['date', 'mission', 'Year', 'Month', 'Week', 'Day', 'Dayofweek',\n",
      "       'Dayofyear', 'Is_month_end', 'Is_month_start', 'Is_quarter_end',\n",
      "       'Is_quarter_start', 'Is_year_end', 'Is_year_start', 'Elapsed',\n",
      "       'STATION_x', 'NAME_x', 'DATE', 'AWND_x', 'FMTM', 'PGTM', 'PRCP_x',\n",
      "       'TAVG_x', 'TMAX_x', 'TMIN_x', 'TSUN', 'WDF2', 'WDF5', 'WSF2', 'WSF5',\n",
      "       'WT01', 'WT02', 'WT03', 'WT05', 'WT08', 'WT10', 'STATION_y', 'NAME_y',\n",
      "       'AWND_y', 'PRCP_y', 'SNWD', 'TAVG_y', 'TMAX_y', 'TMIN_y', 'TOBS',\n",
      "       'WESD'],\n",
      "      dtype='object')\n"
     ]
    },
    {
     "name": "stderr",
     "output_type": "stream",
     "text": [
      "/anaconda3/envs/python3.7/lib/python3.7/site-packages/pandas/core/frame.py:3940: SettingWithCopyWarning: \n",
      "A value is trying to be set on a copy of a slice from a DataFrame\n",
      "\n",
      "See the caveats in the documentation: http://pandas.pydata.org/pandas-docs/stable/indexing.html#indexing-view-versus-copy\n",
      "  errors=errors)\n"
     ]
    }
   ],
   "source": [
    "print(train.columns)\n",
    "\n",
    "# remove the date and station codes, since they won't be useful for random forest training\n",
    "train.drop(['date', 'DATE', 'STATION_x', 'NAME_x', 'STATION_y','NAME_y'], axis=1, inplace=True)\n",
    "validate.drop(['date', 'DATE','STATION_x', 'NAME_x', 'STATION_y','NAME_y'], axis=1, inplace=True)"
   ]
  },
  {
   "cell_type": "code",
   "execution_count": 64,
   "metadata": {},
   "outputs": [],
   "source": [
    "y_train = train['mission']\n",
    "X_train = train.drop('mission', axis=1)\n",
    "\n",
    "y_validate = validate['mission']\n",
    "X_validate = validate.drop('mission', axis=1)"
   ]
  },
  {
   "cell_type": "code",
   "execution_count": 95,
   "metadata": {},
   "outputs": [
    {
     "name": "stdout",
     "output_type": "stream",
     "text": [
      "1.0\n",
      "0.6634146341463415\n",
      "0.7093938839040469\n"
     ]
    }
   ],
   "source": [
    "m = RandomForestClassifier(n_estimators=100, min_samples_leaf=1, n_jobs=-1, oob_score=True)\n",
    "m.fit(X_train, y_train)\n",
    "print(m.score(X_train, y_train))\n",
    "print(m.score(X_validate, y_validate))\n",
    "print(m.oob_score_)"
   ]
  },
  {
   "cell_type": "markdown",
   "metadata": {},
   "source": [
    "Okay, so we have something to start with. The accuracy isn't grat, but we don't have that many features to work with. I'm curious what the probs that it predicts looks like."
   ]
  },
  {
   "cell_type": "code",
   "execution_count": 92,
   "metadata": {},
   "outputs": [
    {
     "name": "stdout",
     "output_type": "stream",
     "text": [
      "                0           1\n",
      "count  820.000000  820.000000\n",
      "mean     0.621866    0.378134\n",
      "std      0.103593    0.103593\n",
      "min      0.270000    0.120000\n",
      "25%      0.550000    0.300000\n",
      "50%      0.630000    0.370000\n",
      "75%      0.700000    0.450000\n",
      "max      0.880000    0.730000\n"
     ]
    },
    {
     "data": {
      "image/png": "[encoded data removed]",
      "text/plain": [
       "<Figure size 432x288 with 1 Axes>"
      ]
     },
     "metadata": {
      "needs_background": "light"
     },
     "output_type": "display_data"
    }
   ],
   "source": [
    "predictions = pd.DataFrame(m.predict_proba(X_validate))\n",
    "sns.distplot(predictions[1], bins=10) #plot the prediction liklihood of a mission\n",
    "print(predictions.describe())"
   ]
  },
  {
   "cell_type": "markdown",
   "metadata": {},
   "source": [
    "Interesting. It's never more than 73% sure that a mission will happen. The negative predictive power is a bit better, getting as low as 12% liklihood. \n",
    "\n",
    "How can we improve our predictions? Add more features? Holidays?"
   ]
  },
  {
   "cell_type": "code",
   "execution_count": 101,
   "metadata": {},
   "outputs": [
    {
     "data": {
      "text/html": [
       "<div>\n",
       "<style scoped>\n",
       "    .dataframe tbody tr th:only-of-type {\n",
       "        vertical-align: middle;\n",
       "    }\n",
       "\n",
       "    .dataframe tbody tr th {\n",
       "        vertical-align: top;\n",
       "    }\n",
       "\n",
       "    .dataframe thead th {\n",
       "        text-align: right;\n",
       "    }\n",
       "</style>\n",
       "<table border=\"1\" class=\"dataframe\">\n",
       "  <thead>\n",
       "    <tr style=\"text-align: right;\">\n",
       "      <th></th>\n",
       "      <th>cols</th>\n",
       "      <th>imp</th>\n",
       "    </tr>\n",
       "  </thead>\n",
       "  <tbody>\n",
       "    <tr>\n",
       "      <th>15</th>\n",
       "      <td>PGTM</td>\n",
       "      <td>0.061781</td>\n",
       "    </tr>\n",
       "    <tr>\n",
       "      <th>12</th>\n",
       "      <td>Elapsed</td>\n",
       "      <td>0.060205</td>\n",
       "    </tr>\n",
       "    <tr>\n",
       "      <th>5</th>\n",
       "      <td>Dayofyear</td>\n",
       "      <td>0.053913</td>\n",
       "    </tr>\n",
       "    <tr>\n",
       "      <th>4</th>\n",
       "      <td>Dayofweek</td>\n",
       "      <td>0.053395</td>\n",
       "    </tr>\n",
       "    <tr>\n",
       "      <th>13</th>\n",
       "      <td>AWND_x</td>\n",
       "      <td>0.050678</td>\n",
       "    </tr>\n",
       "    <tr>\n",
       "      <th>3</th>\n",
       "      <td>Day</td>\n",
       "      <td>0.048017</td>\n",
       "    </tr>\n",
       "    <tr>\n",
       "      <th>18</th>\n",
       "      <td>TMAX_x</td>\n",
       "      <td>0.047546</td>\n",
       "    </tr>\n",
       "    <tr>\n",
       "      <th>35</th>\n",
       "      <td>TMAX_y</td>\n",
       "      <td>0.046835</td>\n",
       "    </tr>\n",
       "    <tr>\n",
       "      <th>19</th>\n",
       "      <td>TMIN_x</td>\n",
       "      <td>0.045517</td>\n",
       "    </tr>\n",
       "    <tr>\n",
       "      <th>22</th>\n",
       "      <td>WDF5</td>\n",
       "      <td>0.043574</td>\n",
       "    </tr>\n",
       "  </tbody>\n",
       "</table>\n",
       "</div>"
      ],
      "text/plain": [
       "         cols       imp\n",
       "15       PGTM  0.061781\n",
       "12    Elapsed  0.060205\n",
       "5   Dayofyear  0.053913\n",
       "4   Dayofweek  0.053395\n",
       "13     AWND_x  0.050678\n",
       "3         Day  0.048017\n",
       "18     TMAX_x  0.047546\n",
       "35     TMAX_y  0.046835\n",
       "19     TMIN_x  0.045517\n",
       "22       WDF5  0.043574"
      ]
     },
     "execution_count": 101,
     "metadata": {},
     "output_type": "execute_result"
    }
   ],
   "source": [
    "def rf_feat_importance(m, df):\n",
    "    return pd.DataFrame({'cols':df.columns, 'imp':m.feature_importances_}\n",
    "                       ).sort_values('imp', ascending=False)\n",
    "\n",
    "fi = rf_feat_importance(m, X_train); fi[:10]"
   ]
  },
  {
   "cell_type": "code",
   "execution_count": 102,
   "metadata": {},
   "outputs": [],
   "source": [
    "# WHAT IS THE BASELINE MODEL?\n",
    "# Always predict no?\n",
    "# Random weighted coin flip?\n",
    "\n",
    "# DO the shuffle analysis to test the impact of each factor in the model"
   ]
  },
  {
   "cell_type": "code",
   "execution_count": null,
   "metadata": {},
   "outputs": [],
   "source": []
  }
 ],
 "metadata": {
  "kernelspec": {
   "display_name": "Python 3",
   "language": "python",
   "name": "python3"
  },
  "language_info": {
   "codemirror_mode": {
    "name": "ipython",
    "version": 3
   },
   "file_extension": ".py",
   "mimetype": "text/x-python",
   "name": "python",
   "nbconvert_exporter": "python",
   "pygments_lexer": "ipython3",
   "version": "3.7.3"
  }
 },
 "nbformat": 4,
 "nbformat_minor": 2
}
